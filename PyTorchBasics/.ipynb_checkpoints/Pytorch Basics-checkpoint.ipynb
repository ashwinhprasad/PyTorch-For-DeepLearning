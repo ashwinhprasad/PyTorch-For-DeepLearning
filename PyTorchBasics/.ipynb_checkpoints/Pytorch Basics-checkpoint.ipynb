{
 "cells": [
  {
   "cell_type": "markdown",
   "metadata": {},
   "source": [
    "# PyTorch For Deep Learning\n",
    "\n",
    "<img src=\"https://miro.medium.com/max/700/1*XOpc_Tpr2iliwgAfeGVnag.jpeg\" />\n",
    "\n",
    "Pytorch is a Deep Learning Library Devoloped by Facebook. it can be used for various purposes such as Natural Language Processing , Computer Vision, etc"
   ]
  },
  {
   "cell_type": "code",
   "execution_count": 2,
   "metadata": {
    "colab": {},
    "colab_type": "code",
    "executionInfo": {
     "elapsed": 4643,
     "status": "ok",
     "timestamp": 1600199034470,
     "user": {
      "displayName": "Ashwin Prasad",
      "photoUrl": "https://lh3.googleusercontent.com/a-/AOh14GjMM3ZAlDTeJtJdBZRQScW9BHE7piLfLHk_QFi_IQ=s64",
      "userId": "07979481947621077543"
     },
     "user_tz": -330
    },
    "id": "cdvUlYfqRJGu"
   },
   "outputs": [],
   "source": [
    "#importing the libraries\n",
    "import torch, numpy as np"
   ]
  },
  {
   "cell_type": "code",
   "execution_count": null,
   "metadata": {
    "colab": {},
    "colab_type": "code",
    "id": "Gyu7tAt1RCay"
   },
   "outputs": [],
   "source": [
    "#creating numpy array\n",
    "data = np.array([1,2,3,4,5])"
   ]
  },
  {
   "cell_type": "code",
   "execution_count": null,
   "metadata": {
    "colab": {
     "base_uri": "https://localhost:8080/",
     "height": 85
    },
    "colab_type": "code",
    "executionInfo": {
     "elapsed": 3464,
     "status": "ok",
     "timestamp": 1598673612242,
     "user": {
      "displayName": "Ashwin Prasad",
      "photoUrl": "https://lh3.googleusercontent.com/a-/AOh14GjMM3ZAlDTeJtJdBZRQScW9BHE7piLfLHk_QFi_IQ=s64",
      "userId": "07979481947621077543"
     },
     "user_tz": -330
    },
    "id": "qEyU1AS_RUOa",
    "outputId": "aed6ad0b-4750-4611-eaaa-0e97e4edaf00"
   },
   "outputs": [
    {
     "name": "stdout",
     "output_type": "stream",
     "text": [
      "tensor([1., 2., 3., 4., 5.])\n",
      "tensor([1, 2, 3, 4, 5])\n",
      "tensor([1, 2, 3, 4, 5])\n",
      "tensor([1, 2, 3, 4, 5])\n"
     ]
    }
   ],
   "source": [
    "#different ways for creating tensors\n",
    "output1 = torch.Tensor(data)\n",
    "output2 = torch.tensor(data)\n",
    "output3 = torch.from_numpy(data)\n",
    "output4 = torch.as_tensor(data)\n",
    "print(\"{}\\n{}\\n{}\\n{}\".format(output1,output2,output3,output4))"
   ]
  },
  {
   "cell_type": "markdown",
   "metadata": {
    "colab_type": "text",
    "id": "TMgfqfhXU4IX"
   },
   "source": [
    "## The difference Between the 4 ways of creating tensors mentioned above are :                                                     \n",
    "1) The data type of elements in the tensor is float by default              \n",
    "2) The data type of the elements in the tensor is by default the data types of the elements itself                               \n",
    "3) Shares data between the numpy array and the tensor. changes in the numpy array is reflected to the tensor object and vice versa  \n",
    "4) This is same as 3 but is similar to 2. because , the default data type is that of the data original data itself  "
   ]
  },
  {
   "cell_type": "code",
   "execution_count": null,
   "metadata": {
    "colab": {
     "base_uri": "https://localhost:8080/",
     "height": 85
    },
    "colab_type": "code",
    "executionInfo": {
     "elapsed": 3452,
     "status": "ok",
     "timestamp": 1598673612243,
     "user": {
      "displayName": "Ashwin Prasad",
      "photoUrl": "https://lh3.googleusercontent.com/a-/AOh14GjMM3ZAlDTeJtJdBZRQScW9BHE7piLfLHk_QFi_IQ=s64",
      "userId": "07979481947621077543"
     },
     "user_tz": -330
    },
    "id": "u3CX3KtiR7-N",
    "outputId": "0ea1e7d0-f04f-4ffe-a581-53d158e00708"
   },
   "outputs": [
    {
     "name": "stdout",
     "output_type": "stream",
     "text": [
      "torch.float32\n",
      "torch.int64\n",
      "torch.int64\n",
      "torch.int64\n"
     ]
    }
   ],
   "source": [
    "#printing the datatype of all the outputs\n",
    "print(\"{}\\n{}\\n{}\\n{}\".format(output1.dtype,output2.dtype,output3.dtype,output4.dtype))"
   ]
  },
  {
   "cell_type": "code",
   "execution_count": null,
   "metadata": {
    "colab": {
     "base_uri": "https://localhost:8080/",
     "height": 102
    },
    "colab_type": "code",
    "executionInfo": {
     "elapsed": 3439,
     "status": "ok",
     "timestamp": 1598673612243,
     "user": {
      "displayName": "Ashwin Prasad",
      "photoUrl": "https://lh3.googleusercontent.com/a-/AOh14GjMM3ZAlDTeJtJdBZRQScW9BHE7piLfLHk_QFi_IQ=s64",
      "userId": "07979481947621077543"
     },
     "user_tz": -330
    },
    "id": "ZzpIMCH_SiOD",
    "outputId": "d0f4adaa-cccd-44eb-d873-a9d64f9b9967"
   },
   "outputs": [
    {
     "data": {
      "text/plain": [
       "tensor([[1., 0., 0., 0., 0.],\n",
       "        [0., 1., 0., 0., 0.],\n",
       "        [0., 0., 1., 0., 0.],\n",
       "        [0., 0., 0., 1., 0.],\n",
       "        [0., 0., 0., 0., 1.]])"
      ]
     },
     "execution_count": 5,
     "metadata": {
      "tags": []
     },
     "output_type": "execute_result"
    }
   ],
   "source": [
    "#creating an identity tensor\n",
    "torch.eye(5)"
   ]
  },
  {
   "cell_type": "code",
   "execution_count": null,
   "metadata": {
    "colab": {
     "base_uri": "https://localhost:8080/",
     "height": 51
    },
    "colab_type": "code",
    "executionInfo": {
     "elapsed": 3429,
     "status": "ok",
     "timestamp": 1598673612244,
     "user": {
      "displayName": "Ashwin Prasad",
      "photoUrl": "https://lh3.googleusercontent.com/a-/AOh14GjMM3ZAlDTeJtJdBZRQScW9BHE7piLfLHk_QFi_IQ=s64",
      "userId": "07979481947621077543"
     },
     "user_tz": -330
    },
    "id": "LN0ZnFbMSn1q",
    "outputId": "6f815043-18cc-4d3c-be57-3b4ce7421613"
   },
   "outputs": [
    {
     "data": {
      "text/plain": [
       "tensor([[0., 0.],\n",
       "        [0., 0.]])"
      ]
     },
     "execution_count": 6,
     "metadata": {
      "tags": []
     },
     "output_type": "execute_result"
    }
   ],
   "source": [
    "#creating a tensor full of zeroes\n",
    "torch.zeros(2,2)"
   ]
  },
  {
   "cell_type": "code",
   "execution_count": null,
   "metadata": {
    "colab": {
     "base_uri": "https://localhost:8080/",
     "height": 85
    },
    "colab_type": "code",
    "executionInfo": {
     "elapsed": 3419,
     "status": "ok",
     "timestamp": 1598673612245,
     "user": {
      "displayName": "Ashwin Prasad",
      "photoUrl": "https://lh3.googleusercontent.com/a-/AOh14GjMM3ZAlDTeJtJdBZRQScW9BHE7piLfLHk_QFi_IQ=s64",
      "userId": "07979481947621077543"
     },
     "user_tz": -330
    },
    "id": "R_DzavvbSxAF",
    "outputId": "0e68e213-7bff-4af1-a519-235f75792d92"
   },
   "outputs": [
    {
     "data": {
      "text/plain": [
       "tensor([[1., 1., 1., 1.],\n",
       "        [1., 1., 1., 1.],\n",
       "        [1., 1., 1., 1.],\n",
       "        [1., 1., 1., 1.]])"
      ]
     },
     "execution_count": 7,
     "metadata": {
      "tags": []
     },
     "output_type": "execute_result"
    }
   ],
   "source": [
    "#creating a tensor full of value '1'\n",
    "torch.ones(4,4)"
   ]
  },
  {
   "cell_type": "code",
   "execution_count": null,
   "metadata": {
    "colab": {
     "base_uri": "https://localhost:8080/",
     "height": 102
    },
    "colab_type": "code",
    "executionInfo": {
     "elapsed": 3405,
     "status": "ok",
     "timestamp": 1598673612245,
     "user": {
      "displayName": "Ashwin Prasad",
      "photoUrl": "https://lh3.googleusercontent.com/a-/AOh14GjMM3ZAlDTeJtJdBZRQScW9BHE7piLfLHk_QFi_IQ=s64",
      "userId": "07979481947621077543"
     },
     "user_tz": -330
    },
    "id": "rV6VRjWkS2gP",
    "outputId": "67873a3e-5cc1-4969-a42a-6e0b723ec016"
   },
   "outputs": [
    {
     "data": {
      "text/plain": [
       "tensor([[0.4212, 0.1785, 0.6450],\n",
       "        [0.0284, 0.9095, 0.9114],\n",
       "        [0.0811, 0.5611, 0.2545],\n",
       "        [0.1132, 0.3313, 0.9921],\n",
       "        [0.2310, 0.4237, 0.6206]])"
      ]
     },
     "execution_count": 8,
     "metadata": {
      "tags": []
     },
     "output_type": "execute_result"
    }
   ],
   "source": [
    "#creating tensor with random values\n",
    "torch.rand(5,3)"
   ]
  },
  {
   "cell_type": "markdown",
   "metadata": {},
   "source": [
    "# Reshaping operations\n",
    "\n",
    "Reshaping is one of the most important operations in any deep learning framework and it can be easily implemented in PyTorch. Here are some of the reshaping operations in PyTorch"
   ]
  },
  {
   "cell_type": "code",
   "execution_count": null,
   "metadata": {
    "colab": {
     "base_uri": "https://localhost:8080/",
     "height": 408
    },
    "colab_type": "code",
    "executionInfo": {
     "elapsed": 717,
     "status": "ok",
     "timestamp": 1598673786214,
     "user": {
      "displayName": "Ashwin Prasad",
      "photoUrl": "https://lh3.googleusercontent.com/a-/AOh14GjMM3ZAlDTeJtJdBZRQScW9BHE7piLfLHk_QFi_IQ=s64",
      "userId": "07979481947621077543"
     },
     "user_tz": -330
    },
    "id": "4Vp2PMGiXgcS",
    "outputId": "e7e8295b-72ca-4893-f642-13387843fb9d"
   },
   "outputs": [
    {
     "name": "stdout",
     "output_type": "stream",
     "text": [
      "tensor([[0.2267, 0.3610, 0.3366, 0.1552],\n",
      "        [0.3319, 0.3566, 0.3814, 0.9854],\n",
      "        [0.4764, 0.1241, 0.8957, 0.2228],\n",
      "        [0.6024, 0.0024, 0.4686, 0.9024],\n",
      "        [0.0275, 0.3080, 0.7966, 0.8439],\n",
      "        [0.3685, 0.7664, 0.6974, 0.0545]]) \n",
      "\n",
      "tensor([[0.2267, 0.3610],\n",
      "        [0.3366, 0.1552],\n",
      "        [0.3319, 0.3566],\n",
      "        [0.3814, 0.9854],\n",
      "        [0.4764, 0.1241],\n",
      "        [0.8957, 0.2228],\n",
      "        [0.6024, 0.0024],\n",
      "        [0.4686, 0.9024],\n",
      "        [0.0275, 0.3080],\n",
      "        [0.7966, 0.8439],\n",
      "        [0.3685, 0.7664],\n",
      "        [0.6974, 0.0545]]) \n",
      "\n",
      "tensor([0.2267, 0.3610, 0.3366, 0.1552, 0.3319, 0.3566, 0.3814, 0.9854, 0.4764,\n",
      "        0.1241, 0.8957, 0.2228, 0.6024, 0.0024, 0.4686, 0.9024, 0.0275, 0.3080,\n",
      "        0.7966, 0.8439, 0.3685, 0.7664, 0.6974, 0.0545])\n"
     ]
    }
   ],
   "source": [
    "#reshaping tensors\n",
    "output5 = torch.rand(6,4)\n",
    "print(output5,\"\\n\")\n",
    "print(output5.reshape(12,2),\"\\n\")\n",
    "\n",
    "\n",
    "#flattening the tensor\n",
    "print(output5.flatten())"
   ]
  },
  {
   "cell_type": "code",
   "execution_count": null,
   "metadata": {
    "colab": {
     "base_uri": "https://localhost:8080/",
     "height": 68
    },
    "colab_type": "code",
    "executionInfo": {
     "elapsed": 763,
     "status": "ok",
     "timestamp": 1598674054949,
     "user": {
      "displayName": "Ashwin Prasad",
      "photoUrl": "https://lh3.googleusercontent.com/a-/AOh14GjMM3ZAlDTeJtJdBZRQScW9BHE7piLfLHk_QFi_IQ=s64",
      "userId": "07979481947621077543"
     },
     "user_tz": -330
    },
    "id": "gwNlGuWgXyoI",
    "outputId": "c9448054-4c92-48bd-bbe9-7b1cdf5c09b5"
   },
   "outputs": [
    {
     "name": "stdout",
     "output_type": "stream",
     "text": [
      "tensor([[1, 2, 3, 4, 5, 6, 6, 7]])\n",
      "tensor([1, 2, 3, 4, 5, 6, 6, 7])\n",
      "tensor([[1, 2, 3, 4, 5, 6, 6, 7]])\n"
     ]
    }
   ],
   "source": [
    "#squeeze and unsqueeze tensor operations\n",
    "output6 = torch.as_tensor([[1,2,3,4,5,6,6,7]])\n",
    "print(\"{}\\n{}\\n{}\".format(output6,output6.squeeze(),output6.squeeze().unsqueeze(dim=0)))"
   ]
  },
  {
   "cell_type": "code",
   "execution_count": null,
   "metadata": {
    "colab": {
     "base_uri": "https://localhost:8080/",
     "height": 68
    },
    "colab_type": "code",
    "executionInfo": {
     "elapsed": 750,
     "status": "ok",
     "timestamp": 1598674763270,
     "user": {
      "displayName": "Ashwin Prasad",
      "photoUrl": "https://lh3.googleusercontent.com/a-/AOh14GjMM3ZAlDTeJtJdBZRQScW9BHE7piLfLHk_QFi_IQ=s64",
      "userId": "07979481947621077543"
     },
     "user_tz": -330
    },
    "id": "i6fPxkOcX8HO",
    "outputId": "b4ab99f5-cfda-4ab0-dfd4-b226b125b95e"
   },
   "outputs": [
    {
     "name": "stdout",
     "output_type": "stream",
     "text": [
      "tensor([[ 1,  2,  3,  4,  5,  6,  7,  8,  9, 10]])\n",
      "tensor([[ 1,  2,  3,  4,  5],\n",
      "        [ 6,  7,  8,  9, 10]])\n"
     ]
    }
   ],
   "source": [
    "#tensor concatenation\n",
    "tensor1 = torch.tensor([[1,2,3,4,5]])\n",
    "tensor2 = torch.tensor([[6,7,8,9,10]])\n",
    "print(\"{}\\n{}\".format(torch.cat((tensor1,tensor2),axis=1),torch.cat((tensor1,tensor2),axis=0)))"
   ]
  },
  {
   "cell_type": "code",
   "execution_count": 6,
   "metadata": {
    "colab": {
     "base_uri": "https://localhost:8080/",
     "height": 34
    },
    "colab_type": "code",
    "executionInfo": {
     "elapsed": 733,
     "status": "ok",
     "timestamp": 1600199559477,
     "user": {
      "displayName": "Ashwin Prasad",
      "photoUrl": "https://lh3.googleusercontent.com/a-/AOh14GjMM3ZAlDTeJtJdBZRQScW9BHE7piLfLHk_QFi_IQ=s64",
      "userId": "07979481947621077543"
     },
     "user_tz": -330
    },
    "id": "eGBWcGI-SyXd",
    "outputId": "8e3c0b82-c61c-481f-ed30-9a98a1bc7d84"
   },
   "outputs": [
    {
     "name": "stdout",
     "output_type": "stream",
     "text": [
      "tensor([0, 1, 2, 3, 4, 5])\n"
     ]
    }
   ],
   "source": [
    "data = np.array([0,1,2,3,4,5])\n",
    "tensor = torch.tensor(data)\n",
    "print(tensor)"
   ]
  }
 ],
 "metadata": {
  "colab": {
   "authorship_tag": "ABX9TyOUuFGoKaXzLzbo8qTCyhzQ",
   "collapsed_sections": [],
   "name": "Pytorch Basics",
   "provenance": []
  },
  "kernelspec": {
   "display_name": "Python 3",
   "language": "python",
   "name": "python3"
  },
  "language_info": {
   "codemirror_mode": {
    "name": "ipython",
    "version": 3
   },
   "file_extension": ".py",
   "mimetype": "text/x-python",
   "name": "python",
   "nbconvert_exporter": "python",
   "pygments_lexer": "ipython3",
   "version": "3.8.3"
  }
 },
 "nbformat": 4,
 "nbformat_minor": 1
}
