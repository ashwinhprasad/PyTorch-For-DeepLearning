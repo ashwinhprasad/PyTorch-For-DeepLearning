{
 "cells": [
  {
   "cell_type": "markdown",
   "metadata": {},
   "source": [
    "<h1 style=\"text-align:center\" >AutoGrad and Linear Regression </h1>\n",
    "\n",
    "<img src=\"https://miro.medium.com/max/1920/1*c9kBAAU8sGynDErO6669Pg.jpeg\" />"
   ]
  },
  {
   "cell_type": "code",
   "execution_count": 2,
   "metadata": {
    "colab": {},
    "colab_type": "code",
    "executionInfo": {
     "elapsed": 4272,
     "status": "ok",
     "timestamp": 1599737932374,
     "user": {
      "displayName": "Ashwin Prasad",
      "photoUrl": "https://lh3.googleusercontent.com/a-/AOh14GjMM3ZAlDTeJtJdBZRQScW9BHE7piLfLHk_QFi_IQ=s64",
      "userId": "07979481947621077543"
     },
     "user_tz": -330
    },
    "id": "qAEz_UZynNR6"
   },
   "outputs": [],
   "source": [
    "#importing the libraries\n",
    "import torch\n",
    "import numpy as np\n",
    "import matplotlib.pyplot as plt\n",
    "import random"
   ]
  },
  {
   "cell_type": "markdown",
   "metadata": {
    "colab_type": "text",
    "id": "SqXo_Fc7odaH"
   },
   "source": [
    "# AutoGrad\n",
    "\n",
    "PyTorch has a very strong feature (it's AutoGrad) that allows it to calculate the differentiation of a variable with respect to another variable. \n",
    "\n",
    "This feature is very useful when performing algorithms like gradient descent\n",
    "\n",
    "![autograd.png](data:image/png;base64,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)\n",
    "\n",
    "as shown above, PyTorch keeps track of this computational graph when we use PyTorch's AutoGrad feature and this helps us to find out how 'F' changes with respect to 'x' , 'y' or 'z'"
   ]
  },
  {
   "cell_type": "code",
   "execution_count": null,
   "metadata": {
    "colab": {},
    "colab_type": "code",
    "id": "g5wfUG13n4wN"
   },
   "outputs": [],
   "source": [
    "x = torch.tensor(5.) #some data\n",
    "w = torch.tensor(4.,requires_grad=True) #weight ( slope )\n",
    "b = torch.tensor(2.,requires_grad=True) #bias (intercept)"
   ]
  },
  {
   "cell_type": "code",
   "execution_count": null,
   "metadata": {
    "colab": {},
    "colab_type": "code",
    "id": "QLQzru0GnayU"
   },
   "outputs": [],
   "source": [
    "y = x*w + b #equation of a line"
   ]
  },
  {
   "cell_type": "markdown",
   "metadata": {
    "colab_type": "text",
    "id": "ACwfG0MKpt6g"
   },
   "source": [
    "backward function tells PyTorch that the gradients that we are going to differentiate this variable with respect to others\n",
    "\n",
    "In the below example , w.grad displays how w changes with respect to y at x = 5.\n",
    "\n",
    "perform differentiation and check this answer if you want"
   ]
  },
  {
   "cell_type": "code",
   "execution_count": null,
   "metadata": {
    "colab": {
     "base_uri": "https://localhost:8080/",
     "height": 34
    },
    "colab_type": "code",
    "executionInfo": {
     "elapsed": 1513,
     "status": "ok",
     "timestamp": 1599682183599,
     "user": {
      "displayName": "Ashwin Prasad",
      "photoUrl": "https://lh3.googleusercontent.com/a-/AOh14GjMM3ZAlDTeJtJdBZRQScW9BHE7piLfLHk_QFi_IQ=s64",
      "userId": "07979481947621077543"
     },
     "user_tz": -330
    },
    "id": "Dcfou0Nlnr8q",
    "outputId": "430bd39f-e561-40d5-c5d1-ecd46f4117ca"
   },
   "outputs": [
    {
     "name": "stdout",
     "output_type": "stream",
     "text": [
      "tensor(5.) tensor(1.)\n"
     ]
    }
   ],
   "source": [
    "y.backward()\n",
    "print(w.grad,b.grad)"
   ]
  },
  {
   "cell_type": "markdown",
   "metadata": {
    "colab_type": "text",
    "id": "5ewf6JxX6Vco"
   },
   "source": [
    "# Linear Regression with Pytorch\n"
   ]
  },
  {
   "cell_type": "code",
   "execution_count": null,
   "metadata": {
    "colab": {
     "base_uri": "https://localhost:8080/",
     "height": 51
    },
    "colab_type": "code",
    "executionInfo": {
     "elapsed": 1502,
     "status": "ok",
     "timestamp": 1599682183599,
     "user": {
      "displayName": "Ashwin Prasad",
      "photoUrl": "https://lh3.googleusercontent.com/a-/AOh14GjMM3ZAlDTeJtJdBZRQScW9BHE7piLfLHk_QFi_IQ=s64",
      "userId": "07979481947621077543"
     },
     "user_tz": -330
    },
    "id": "cHok7wwL6T_i",
    "outputId": "a1c93f64-db8d-403f-e98c-403f18eefdc8"
   },
   "outputs": [
    {
     "name": "stdout",
     "output_type": "stream",
     "text": [
      "shape of x:  torch.Size([99])\n",
      "shape of y:  torch.Size([99])\n"
     ]
    }
   ],
   "source": [
    "#creating a dataset\n",
    "x = torch.tensor(np.arange(1,100,1))\n",
    "y = (x*20+5+random.randint(-2,3)).reshape(-1)\n",
    "print(\"shape of x: \",x.shape)\n",
    "print(\"shape of y: \",y.shape)"
   ]
  },
  {
   "cell_type": "code",
   "execution_count": null,
   "metadata": {
    "colab": {},
    "colab_type": "code",
    "id": "nt2ZNB9Be8YB"
   },
   "outputs": [],
   "source": [
    "w = torch.tensor(0.,requires_grad=True)\n",
    "b = torch.tensor(0.,requires_grad=True)"
   ]
  },
  {
   "cell_type": "code",
   "execution_count": null,
   "metadata": {
    "colab": {},
    "colab_type": "code",
    "id": "6lQKJroje91t"
   },
   "outputs": [],
   "source": [
    "epochs = 100"
   ]
  },
  {
   "cell_type": "code",
   "execution_count": null,
   "metadata": {
    "colab": {
     "base_uri": "https://localhost:8080/",
     "height": 136
    },
    "colab_type": "code",
    "executionInfo": {
     "elapsed": 1463,
     "status": "ok",
     "timestamp": 1599682183601,
     "user": {
      "displayName": "Ashwin Prasad",
      "photoUrl": "https://lh3.googleusercontent.com/a-/AOh14GjMM3ZAlDTeJtJdBZRQScW9BHE7piLfLHk_QFi_IQ=s64",
      "userId": "07979481947621077543"
     },
     "user_tz": -330
    },
    "id": "bpMJlE2AfABV",
    "outputId": "938de13b-b106-4fa2-cdec-b61db6247751"
   },
   "outputs": [
    {
     "name": "stdout",
     "output_type": "stream",
     "text": [
      "tensor(1342730.6250, grad_fn=<MeanBackward0>)\n",
      "tensor(14.5651, grad_fn=<MeanBackward0>)\n",
      "tensor(14.5437, grad_fn=<MeanBackward0>)\n",
      "tensor(14.5221, grad_fn=<MeanBackward0>)\n",
      "tensor(14.5006, grad_fn=<MeanBackward0>)\n",
      "tensor(14.4793, grad_fn=<MeanBackward0>)\n",
      "tensor(14.4579, grad_fn=<MeanBackward0>)\n"
     ]
    }
   ],
   "source": [
    "losses = []\n",
    "for i in range(100):\n",
    "  #making predictions\n",
    "  y_pred = ((x*w)+b)\n",
    "  y_pred.reshape(-1)\n",
    "\n",
    "  #calculating loss\n",
    "  loss = torch.square(y_pred - y).mean()  # ((yPred - y)^2)/number of elements in y\n",
    "  losses.append(loss)\n",
    "\n",
    "  #gradient descent\n",
    "  loss.backward()\n",
    "  with torch.no_grad():\n",
    "    w  -= w.grad*0.0001\n",
    "    b  -= b.grad*0.0001\n",
    "  \n",
    "  w.grad.zero_()\n",
    "  b.grad.zero_()\n",
    "  \n",
    "  #printing loss\n",
    "  if i%15==0:\n",
    "    print(loss)"
   ]
  },
  {
   "cell_type": "code",
   "execution_count": null,
   "metadata": {
    "colab": {
     "base_uri": "https://localhost:8080/",
     "height": 34
    },
    "colab_type": "code",
    "executionInfo": {
     "elapsed": 1445,
     "status": "ok",
     "timestamp": 1599682183602,
     "user": {
      "displayName": "Ashwin Prasad",
      "photoUrl": "https://lh3.googleusercontent.com/a-/AOh14GjMM3ZAlDTeJtJdBZRQScW9BHE7piLfLHk_QFi_IQ=s64",
      "userId": "07979481947621077543"
     },
     "user_tz": -330
    },
    "id": "JuBxmadAfB4M",
    "outputId": "f08342dd-8a14-4e93-933b-833bcf780cdd"
   },
   "outputs": [
    {
     "name": "stdout",
     "output_type": "stream",
     "text": [
      "20.115468978881836 0.34108221530914307\n"
     ]
    }
   ],
   "source": [
    "print(w.item(),b.item())"
   ]
  },
  {
   "cell_type": "code",
   "execution_count": null,
   "metadata": {
    "colab": {
     "base_uri": "https://localhost:8080/",
     "height": 293
    },
    "colab_type": "code",
    "executionInfo": {
     "elapsed": 2100,
     "status": "ok",
     "timestamp": 1599682184284,
     "user": {
      "displayName": "Ashwin Prasad",
      "photoUrl": "https://lh3.googleusercontent.com/a-/AOh14GjMM3ZAlDTeJtJdBZRQScW9BHE7piLfLHk_QFi_IQ=s64",
      "userId": "07979481947621077543"
     },
     "user_tz": -330
    },
    "id": "WcVniDEAfDfW",
    "outputId": "c1d8d8be-b1f0-4b1b-bbdc-b33bc31b01d6"
   },
   "outputs": [
    {
     "data": {
      "text/plain": [
       "[<matplotlib.lines.Line2D at 0x7f124a881470>]"
      ]
     },
     "execution_count": 10,
     "metadata": {
      "tags": []
     },
     "output_type": "execute_result"
    },
    {
     "data": {
      "image/png": "[encoded data removed]",
      "text/plain": [
       "<Figure size 432x288 with 1 Axes>"
      ]
     },
     "metadata": {
      "needs_background": "light",
      "tags": []
     },
     "output_type": "display_data"
    }
   ],
   "source": [
    "plt.plot(losses)"
   ]
  }
 ],
 "metadata": {
  "colab": {
   "authorship_tag": "ABX9TyMqJka0PbuVW0mTAtq6O44S",
   "collapsed_sections": [],
   "name": "AutoGrad.ipynb",
   "provenance": []
  },
  "kernelspec": {
   "display_name": "Python 3",
   "language": "python",
   "name": "python3"
  },
  "language_info": {
   "codemirror_mode": {
    "name": "ipython",
    "version": 3
   },
   "file_extension": ".py",
   "mimetype": "text/x-python",
   "name": "python",
   "nbconvert_exporter": "python",
   "pygments_lexer": "ipython3",
   "version": "3.8.3"
  }
 },
 "nbformat": 4,
 "nbformat_minor": 1
}
