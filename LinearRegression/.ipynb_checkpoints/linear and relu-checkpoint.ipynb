{
 "cells": [
  {
   "cell_type": "markdown",
   "metadata": {},
   "source": [
    "<h1 style=\"text-align:center\"> Linear and Relu Layers from PyTorch </h1>\n",
    "\n",
    "<img src=\"https://miro.medium.com/max/700/1*P9i-939Oil0jhfdUoVMJtw.jpeg\" />\n"
   ]
  },
  {
   "cell_type": "code",
   "execution_count": 1,
   "metadata": {
    "colab": {},
    "colab_type": "code",
    "executionInfo": {
     "elapsed": 4370,
     "status": "ok",
     "timestamp": 1599799175021,
     "user": {
      "displayName": "Ashwin Prasad",
      "photoUrl": "https://lh3.googleusercontent.com/a-/AOh14GjMM3ZAlDTeJtJdBZRQScW9BHE7piLfLHk_QFi_IQ=s64",
      "userId": "07979481947621077543"
     },
     "user_tz": -330
    },
    "id": "LQxuDLLhdbaY"
   },
   "outputs": [],
   "source": [
    "import torch\n",
    "import numpy as np"
   ]
  },
  {
   "cell_type": "code",
   "execution_count": 2,
   "metadata": {
    "colab": {},
    "colab_type": "code",
    "executionInfo": {
     "elapsed": 822,
     "status": "ok",
     "timestamp": 1599799200741,
     "user": {
      "displayName": "Ashwin Prasad",
      "photoUrl": "https://lh3.googleusercontent.com/a-/AOh14GjMM3ZAlDTeJtJdBZRQScW9BHE7piLfLHk_QFi_IQ=s64",
      "userId": "07979481947621077543"
     },
     "user_tz": -330
    },
    "id": "2W4mdFERdeOx"
   },
   "outputs": [],
   "source": [
    "from torch import nn"
   ]
  },
  {
   "cell_type": "markdown",
   "metadata": {},
   "source": [
    "Linear layer randomly generates the wights and bias for fitting a line\n",
    "\n",
    "<b> y = beta0 + beta1*x1 + beta2*x2 + .... + beta(n)*xn </b>"
   ]
  },
  {
   "cell_type": "code",
   "execution_count": 3,
   "metadata": {
    "colab": {},
    "colab_type": "code",
    "executionInfo": {
     "elapsed": 808,
     "status": "ok",
     "timestamp": 1599799447696,
     "user": {
      "displayName": "Ashwin Prasad",
      "photoUrl": "https://lh3.googleusercontent.com/a-/AOh14GjMM3ZAlDTeJtJdBZRQScW9BHE7piLfLHk_QFi_IQ=s64",
      "userId": "07979481947621077543"
     },
     "user_tz": -330
    },
    "id": "INwIKyxcdohr"
   },
   "outputs": [
    {
     "name": "stdout",
     "output_type": "stream",
     "text": [
      "Parameter containing:\n",
      "tensor([[-0.2200, -0.2142,  0.4059]], requires_grad=True)\n",
      "Parameter containing:\n",
      "tensor([-0.3293], requires_grad=True)\n"
     ]
    }
   ],
   "source": [
    "linear_layer = nn.Linear(in_features=3,out_features=1)\n",
    "print(linear_layer.weight)\n",
    "print(linear_layer.bias)"
   ]
  },
  {
   "cell_type": "markdown",
   "metadata": {},
   "source": [
    "Once we created an object for nn.Linear , we could use the object to generate predictions for the particular weights and bias"
   ]
  },
  {
   "cell_type": "code",
   "execution_count": 4,
   "metadata": {
    "colab": {
     "base_uri": "https://localhost:8080/",
     "height": 34
    },
    "colab_type": "code",
    "executionInfo": {
     "elapsed": 911,
     "status": "ok",
     "timestamp": 1599799450795,
     "user": {
      "displayName": "Ashwin Prasad",
      "photoUrl": "https://lh3.googleusercontent.com/a-/AOh14GjMM3ZAlDTeJtJdBZRQScW9BHE7piLfLHk_QFi_IQ=s64",
      "userId": "07979481947621077543"
     },
     "user_tz": -330
    },
    "id": "PjUigRdFdyXp",
    "outputId": "deda6869-35a0-48e2-aa4e-4987d9cb61a6"
   },
   "outputs": [
    {
     "name": "stdout",
     "output_type": "stream",
     "text": [
      "tensor([0.2401], grad_fn=<AddBackward0>)\n"
     ]
    }
   ],
   "source": [
    "#example 1\n",
    "print(linear_layer(torch.tensor([1,2,3],dtype=torch.float32)))"
   ]
  },
  {
   "cell_type": "code",
   "execution_count": 5,
   "metadata": {
    "colab": {
     "base_uri": "https://localhost:8080/",
     "height": 34
    },
    "colab_type": "code",
    "executionInfo": {
     "elapsed": 803,
     "status": "ok",
     "timestamp": 1599799723994,
     "user": {
      "displayName": "Ashwin Prasad",
      "photoUrl": "https://lh3.googleusercontent.com/a-/AOh14GjMM3ZAlDTeJtJdBZRQScW9BHE7piLfLHk_QFi_IQ=s64",
      "userId": "07979481947621077543"
     },
     "user_tz": -330
    },
    "id": "ZLEZ-0bGd8_9",
    "outputId": "e1a6eede-5e7e-460e-a2bc-ffecbc2825df"
   },
   "outputs": [
    {
     "name": "stdout",
     "output_type": "stream",
     "text": [
      "tensor([0.1553], grad_fn=<AddBackward0>)\n"
     ]
    }
   ],
   "source": [
    "#example 2\n",
    "print(linear_layer(torch.tensor([4,5,6],dtype=torch.float32)))"
   ]
  },
  {
   "cell_type": "markdown",
   "metadata": {},
   "source": [
    "<h2>RELU - Activation function </h2>\n",
    "\n",
    "Relu is a function which takes in a number and returns the number if number > 0 and 0 if the number <= 0.\n",
    "There are 2 ways to use relu in PyTorch"
   ]
  },
  {
   "cell_type": "code",
   "execution_count": 6,
   "metadata": {
    "colab": {
     "base_uri": "https://localhost:8080/",
     "height": 34
    },
    "colab_type": "code",
    "executionInfo": {
     "elapsed": 804,
     "status": "ok",
     "timestamp": 1599799804838,
     "user": {
      "displayName": "Ashwin Prasad",
      "photoUrl": "https://lh3.googleusercontent.com/a-/AOh14GjMM3ZAlDTeJtJdBZRQScW9BHE7piLfLHk_QFi_IQ=s64",
      "userId": "07979481947621077543"
     },
     "user_tz": -330
    },
    "id": "YkpBEZSqfyD0",
    "outputId": "ba7397f1-135a-4c3b-a978-f86b9b897ef1"
   },
   "outputs": [
    {
     "data": {
      "text/plain": [
       "tensor(0.)"
      ]
     },
     "execution_count": 6,
     "metadata": {},
     "output_type": "execute_result"
    }
   ],
   "source": [
    "#relu method 1\n",
    "torch.relu(torch.tensor(-50,dtype=torch.float32))"
   ]
  },
  {
   "cell_type": "code",
   "execution_count": 7,
   "metadata": {
    "colab": {},
    "colab_type": "code",
    "executionInfo": {
     "elapsed": 760,
     "status": "ok",
     "timestamp": 1599799819023,
     "user": {
      "displayName": "Ashwin Prasad",
      "photoUrl": "https://lh3.googleusercontent.com/a-/AOh14GjMM3ZAlDTeJtJdBZRQScW9BHE7piLfLHk_QFi_IQ=s64",
      "userId": "07979481947621077543"
     },
     "user_tz": -330
    },
    "id": "0dkDYon7f0Yq"
   },
   "outputs": [
    {
     "data": {
      "text/plain": [
       "tensor(50.)"
      ]
     },
     "execution_count": 7,
     "metadata": {},
     "output_type": "execute_result"
    }
   ],
   "source": [
    "#relu method 2\n",
    "relu = nn.ReLU()\n",
    "relu(torch.tensor(50,dtype=torch.float32))"
   ]
  }
 ],
 "metadata": {
  "colab": {
   "authorship_tag": "ABX9TyOh3xv1St3vK8Pgc0kgembd",
   "name": "linear and relu.ipynb",
   "provenance": []
  },
  "kernelspec": {
   "display_name": "Python 3",
   "language": "python",
   "name": "python3"
  },
  "language_info": {
   "codemirror_mode": {
    "name": "ipython",
    "version": 3
   },
   "file_extension": ".py",
   "mimetype": "text/x-python",
   "name": "python",
   "nbconvert_exporter": "python",
   "pygments_lexer": "ipython3",
   "version": "3.8.3"
  }
 },
 "nbformat": 4,
 "nbformat_minor": 1
}
