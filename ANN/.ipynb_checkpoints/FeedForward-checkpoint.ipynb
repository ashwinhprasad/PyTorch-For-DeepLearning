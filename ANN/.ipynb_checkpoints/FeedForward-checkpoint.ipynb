{
 "cells": [
  {
   "cell_type": "markdown",
   "metadata": {
    "colab_type": "text",
    "id": "DOzH1F4MbKKA"
   },
   "source": [
    "# Feed Forward Neural Network \n",
    "\n",
    "<img src=\"https://miro.medium.com/max/700/1*jHLsllWe2sU8kUsia4QZRw.jpeg\"/>\n",
    "\n",
    "PIPELINE\n",
    "\n",
    "--> Import the Data\n",
    "\n",
    "--> Create DataLoader\n",
    "\n",
    "--> Create the Neural Network\n",
    "\n",
    "--> Train the model"
   ]
  },
  {
   "cell_type": "code",
   "execution_count": null,
   "metadata": {
    "colab": {},
    "colab_type": "code",
    "id": "aQNMDHDD38-y"
   },
   "outputs": [],
   "source": [
    "#importing the libraries\n",
    "import torch \n",
    "import numpy as np\n",
    "import matplotlib.pyplot as plt"
   ]
  },
  {
   "cell_type": "markdown",
   "metadata": {
    "colab_type": "text",
    "id": "yL1OlnCZa1Tf"
   },
   "source": [
    "# Importing the Dataset\n",
    "\n",
    "Sklearn is a library which can be used for a lot of machine learning purposes. This library also contains datasets.\n",
    "\n",
    "Hence, we can import the diabetes libraries from sklearn and train the model on it"
   ]
  },
  {
   "cell_type": "code",
   "execution_count": 1,
   "metadata": {
    "colab": {
     "base_uri": "https://localhost:8080/",
     "height": 52
    },
    "colab_type": "code",
    "executionInfo": {
     "elapsed": 2971,
     "status": "ok",
     "timestamp": 1599755013011,
     "user": {
      "displayName": "Ashwin Prasad",
      "photoUrl": "https://lh3.googleusercontent.com/a-/AOh14GjMM3ZAlDTeJtJdBZRQScW9BHE7piLfLHk_QFi_IQ=s64",
      "userId": "07979481947621077543"
     },
     "user_tz": -330
    },
    "id": "G9nynrQx4C9s",
    "outputId": "498f6913-246a-417b-b41d-019f6dac70ea"
   },
   "outputs": [
    {
     "name": "stdout",
     "output_type": "stream",
     "text": [
      "shape of x is :  (442, 10)\n",
      "shape of y is :  (442,)\n"
     ]
    }
   ],
   "source": [
    "#importing the dataset \n",
    "from sklearn.datasets import load_diabetes\n",
    "data = load_diabetes()\n",
    "x = data['data']\n",
    "y = data['target']\n",
    "#shape\n",
    "print('shape of x is : ',x.shape)\n",
    "print('shape of y is : ',y.shape)"
   ]
  },
  {
   "cell_type": "markdown",
   "metadata": {
    "colab_type": "text",
    "id": "iuveq29kX92o"
   },
   "source": [
    "# Dataset and DataLoader\n",
    "\n",
    "Dataset class in pytorch basically covers the data in a tuple and enables us to access the index of each data. this is necessary to create dataloader class which can be used to shuffle, apply Mini-Batch Gradient Descent and more"
   ]
  },
  {
   "cell_type": "code",
   "execution_count": null,
   "metadata": {
    "colab": {},
    "colab_type": "code",
    "id": "5mUWvpgO5eMC"
   },
   "outputs": [],
   "source": [
    "#dataset\n",
    "from torch.utils.data import Dataset, DataLoader\n",
    "class diabetesdataset(Dataset):\n",
    "  def __init__(self,x,y):\n",
    "    self.x = torch.tensor(x,dtype=torch.float32)\n",
    "    self.y = torch.tensor(y,dtype=torch.float32)\n",
    "    self.length = self.x.shape[0]\n",
    "  \n",
    "  def __getitem__(self,idx):\n",
    "    return self.x[idx],self.y[idx]\n",
    "  \n",
    "  def __len__(self):\n",
    "    return self.length\n",
    "\n",
    "dataset = diabetesdataset(x,y)"
   ]
  },
  {
   "cell_type": "code",
   "execution_count": null,
   "metadata": {
    "colab": {},
    "colab_type": "code",
    "id": "nkIwTEIr7Zqx"
   },
   "outputs": [],
   "source": [
    "#dataloader\n",
    "dataloader = DataLoader(dataset=dataset,shuffle=True,batch_size=100)"
   ]
  },
  {
   "cell_type": "markdown",
   "metadata": {
    "colab_type": "text",
    "id": "Xu8RPVeDYfYh"
   },
   "source": [
    "# Feed Forward Neural Network\n",
    "\n",
    "in Pytorch, neural networks are created by using Object Oriented Programming.The layers are defined in the init function and the forward pass is defined in the forward function , which is invoked automatically when the class is called.\n",
    "\n",
    "These Functions are possible because of the class **nn.Module** from torch which was inherited."
   ]
  },
  {
   "cell_type": "code",
   "execution_count": null,
   "metadata": {
    "colab": {},
    "colab_type": "code",
    "id": "4Lm9e4gg8S_I"
   },
   "outputs": [],
   "source": [
    "#creating the network\n",
    "from torch import nn\n",
    "class net(nn.Module):\n",
    "  def __init__(self,input_size,output_size):\n",
    "    super(net,self).__init__()\n",
    "    self.l1 = nn.Linear(input_size,5)\n",
    "    self.relu = nn.ReLU()\n",
    "    self.l2 = nn.Linear(5,output_size)\n",
    "  def forward(self,x):\n",
    "    output = self.l1(x)\n",
    "    output = self.relu(output)\n",
    "    output = self.l2(output)\n",
    "    return output"
   ]
  },
  {
   "cell_type": "markdown",
   "metadata": {
    "colab_type": "text",
    "id": "OHtfosCbZN1y"
   },
   "source": [
    "--> Initializing the model with the input and output shapes\n",
    "\n",
    "--> Defining the Loss function\n",
    "\n",
    "--> Choosing the optimizer\n",
    "\n",
    "--> Choosing the Number of Epochs"
   ]
  },
  {
   "cell_type": "code",
   "execution_count": null,
   "metadata": {
    "colab": {},
    "colab_type": "code",
    "id": "ZuWB7uLC9OUD"
   },
   "outputs": [],
   "source": [
    "model = net(x.shape[1],1)\n",
    "criterion = nn.MSELoss()\n",
    "optimizer = torch.optim.SGD(model.parameters(),lr=0.001)\n",
    "epochs = 1500"
   ]
  },
  {
   "cell_type": "markdown",
   "metadata": {
    "colab_type": "text",
    "id": "Cy9WGroXZmCB"
   },
   "source": [
    "# Training \n",
    "\n",
    "The Gradients that are found from the loss function are used to change the values of the weights and the process is repeated several times.\n",
    "\n",
    "This is done to minimize the loss function and increase the accuracy\n",
    "\n",
    "Also , the Dataset is not split into training and test set because the amount of data is already low"
   ]
  },
  {
   "cell_type": "code",
   "execution_count": null,
   "metadata": {
    "colab": {
     "base_uri": "https://localhost:8080/",
     "height": 191
    },
    "colab_type": "code",
    "executionInfo": {
     "elapsed": 4274,
     "status": "ok",
     "timestamp": 1599161675477,
     "user": {
      "displayName": "Ashwin Prasad",
      "photoUrl": "https://lh3.googleusercontent.com/a-/AOh14GjMM3ZAlDTeJtJdBZRQScW9BHE7piLfLHk_QFi_IQ=s64",
      "userId": "07979481947621077543"
     },
     "user_tz": -330
    },
    "id": "_VXgNE10McSb",
    "outputId": "bf78eb40-eb4b-4618-c4fd-7f98c1988dd6"
   },
   "outputs": [
    {
     "name": "stdout",
     "output_type": "stream",
     "text": [
      "tensor(26336.3301, grad_fn=<MseLossBackward>)\n",
      "tensor(3607.3894, grad_fn=<MseLossBackward>)\n",
      "tensor(2773.9294, grad_fn=<MseLossBackward>)\n",
      "tensor(2302.8511, grad_fn=<MseLossBackward>)\n",
      "tensor(2928.7632, grad_fn=<MseLossBackward>)\n",
      "tensor(2525.0527, grad_fn=<MseLossBackward>)\n",
      "tensor(3494.0715, grad_fn=<MseLossBackward>)\n",
      "tensor(3227.6035, grad_fn=<MseLossBackward>)\n",
      "tensor(2275.8088, grad_fn=<MseLossBackward>)\n",
      "tensor(3081.6348, grad_fn=<MseLossBackward>)\n"
     ]
    }
   ],
   "source": [
    "costval = []\n",
    "for j in range(epochs):\n",
    "  for i,(x_train,y_train) in enumerate(dataloader):\n",
    "    #prediction\n",
    "    y_pred = model(x_train)\n",
    "    \n",
    "    #calculating loss\n",
    "    cost = criterion(y_pred,y_train.reshape(-1,1))\n",
    "    \n",
    "    #backprop\n",
    "    optimizer.zero_grad()\n",
    "    cost.backward()\n",
    "    optimizer.step()\n",
    "    \n",
    "  if j%50 == 0:\n",
    "    print(cost)\n",
    "    costval.append(cost)"
   ]
  },
  {
   "cell_type": "code",
   "execution_count": null,
   "metadata": {
    "colab": {
     "base_uri": "https://localhost:8080/",
     "height": 282
    },
    "colab_type": "code",
    "executionInfo": {
     "elapsed": 4270,
     "status": "ok",
     "timestamp": 1599161675480,
     "user": {
      "displayName": "Ashwin Prasad",
      "photoUrl": "https://lh3.googleusercontent.com/a-/AOh14GjMM3ZAlDTeJtJdBZRQScW9BHE7piLfLHk_QFi_IQ=s64",
      "userId": "07979481947621077543"
     },
     "user_tz": -330
    },
    "id": "mHGRELnIM0ec",
    "outputId": "15e77f92-0fc7-4d80-a186-4462e190ee46"
   },
   "outputs": [
    {
     "data": {
      "text/plain": [
       "[<matplotlib.lines.Line2D at 0x7fd275484080>]"
      ]
     },
     "execution_count": 8,
     "metadata": {
      "tags": []
     },
     "output_type": "execute_result"
    },
    {
     "data": {
      "image/png": "[encoded data removed]",
      "text/plain": [
       "<Figure size 432x288 with 1 Axes>"
      ]
     },
     "metadata": {
      "needs_background": "light",
      "tags": []
     },
     "output_type": "display_data"
    }
   ],
   "source": [
    "#loss over time\n",
    "plt.plot(np.array(costval))"
   ]
  },
  {
   "cell_type": "markdown",
   "metadata": {
    "colab_type": "text",
    "id": "paHmQGtcaBBs"
   },
   "source": [
    "# Conclusion\n",
    "\n",
    "The trained model is used to predict the values of the same inputs (*usually, this is the test set values*) and the predicted values are plotted against the actual values\n",
    "\n",
    "with this plot, we can see that the predicted and actual are almost similiar even though there are some errors. \n",
    "\n",
    "Hence, we can say the model worked well"
   ]
  },
  {
   "cell_type": "code",
   "execution_count": null,
   "metadata": {
    "colab": {
     "base_uri": "https://localhost:8080/",
     "height": 282
    },
    "colab_type": "code",
    "executionInfo": {
     "elapsed": 4715,
     "status": "ok",
     "timestamp": 1599161675932,
     "user": {
      "displayName": "Ashwin Prasad",
      "photoUrl": "https://lh3.googleusercontent.com/a-/AOh14GjMM3ZAlDTeJtJdBZRQScW9BHE7piLfLHk_QFi_IQ=s64",
      "userId": "07979481947621077543"
     },
     "user_tz": -330
    },
    "id": "UPnMRFLBSFrc",
    "outputId": "2101c785-5196-4bab-ac44-2070b5e9e004"
   },
   "outputs": [
    {
     "data": {
      "text/plain": [
       "<matplotlib.collections.PathCollection at 0x7fd2754669b0>"
      ]
     },
     "execution_count": 9,
     "metadata": {
      "tags": []
     },
     "output_type": "execute_result"
    },
    {
     "data": {
      "image/png": "[encoded data removed]",
      "text/plain": [
       "<Figure size 432x288 with 1 Axes>"
      ]
     },
     "metadata": {
      "needs_background": "light",
      "tags": []
     },
     "output_type": "display_data"
    }
   ],
   "source": [
    "#plotting prediction vs actual\n",
    "plt.scatter(model(torch.tensor(x,dtype=torch.float32)).detach().numpy(),np.array(y))"
   ]
  }
 ],
 "metadata": {
  "colab": {
   "authorship_tag": "ABX9TyOjpK1k3QgdXacrEPtpPK+b",
   "collapsed_sections": [
    "DOzH1F4MbKKA",
    "yL1OlnCZa1Tf",
    "iuveq29kX92o",
    "Xu8RPVeDYfYh",
    "Cy9WGroXZmCB",
    "paHmQGtcaBBs"
   ],
   "name": "FeedForward.ipynb",
   "provenance": []
  },
  "kernelspec": {
   "display_name": "Python 3",
   "language": "python",
   "name": "python3"
  },
  "language_info": {
   "codemirror_mode": {
    "name": "ipython",
    "version": 3
   },
   "file_extension": ".py",
   "mimetype": "text/x-python",
   "name": "python",
   "nbconvert_exporter": "python",
   "pygments_lexer": "ipython3",
   "version": "3.8.3"
  }
 },
 "nbformat": 4,
 "nbformat_minor": 1
}
