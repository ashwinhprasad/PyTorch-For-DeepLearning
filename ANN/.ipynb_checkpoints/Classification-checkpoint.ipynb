{
 "cells": [
  {
   "cell_type": "markdown",
   "metadata": {
    "colab_type": "text",
    "id": "b1E1fpVeYo-u"
   },
   "source": [
    "# Breast Cancer Classsification Problem\n",
    "\n",
    "<img src=\"\"/>\n",
    "\n",
    "Pytorch - Binary Classification with Neural Network"
   ]
  },
  {
   "cell_type": "code",
   "execution_count": 1,
   "metadata": {
    "colab": {},
    "colab_type": "code",
    "executionInfo": {
     "elapsed": 1100,
     "status": "ok",
     "timestamp": 1599425827282,
     "user": {
      "displayName": "Ashwin Prasad",
      "photoUrl": "https://lh3.googleusercontent.com/a-/AOh14GjMM3ZAlDTeJtJdBZRQScW9BHE7piLfLHk_QFi_IQ=s64",
      "userId": "07979481947621077543"
     },
     "user_tz": -330
    },
    "id": "y8GPyBhjOaDk"
   },
   "outputs": [],
   "source": [
    "#importing the libraries\n",
    "import torch\n",
    "import numpy as np\n",
    "import matplotlib.pyplot as plt"
   ]
  },
  {
   "cell_type": "markdown",
   "metadata": {
    "colab_type": "text",
    "id": "yRGdWf0XYxRE"
   },
   "source": [
    "# Importing Data\n",
    "\n",
    "Sklearn is a library which can be used for a lot of machine learning purposes. This library also contains datasets.\n",
    "\n",
    "Hence, we can import the diabetes libraries from sklearn and train the model on it"
   ]
  },
  {
   "cell_type": "code",
   "execution_count": 2,
   "metadata": {
    "colab": {},
    "colab_type": "code",
    "executionInfo": {
     "elapsed": 1591,
     "status": "ok",
     "timestamp": 1599425827784,
     "user": {
      "displayName": "Ashwin Prasad",
      "photoUrl": "https://lh3.googleusercontent.com/a-/AOh14GjMM3ZAlDTeJtJdBZRQScW9BHE7piLfLHk_QFi_IQ=s64",
      "userId": "07979481947621077543"
     },
     "user_tz": -330
    },
    "id": "CAi4aVetOixg"
   },
   "outputs": [],
   "source": [
    "from sklearn.datasets import load_breast_cancer\n",
    "data = load_breast_cancer()\n",
    "x = data['data']\n",
    "y = data['target']"
   ]
  },
  {
   "cell_type": "code",
   "execution_count": 3,
   "metadata": {
    "colab": {
     "base_uri": "https://localhost:8080/",
     "height": 52
    },
    "colab_type": "code",
    "executionInfo": {
     "elapsed": 1587,
     "status": "ok",
     "timestamp": 1599425827788,
     "user": {
      "displayName": "Ashwin Prasad",
      "photoUrl": "https://lh3.googleusercontent.com/a-/AOh14GjMM3ZAlDTeJtJdBZRQScW9BHE7piLfLHk_QFi_IQ=s64",
      "userId": "07979481947621077543"
     },
     "user_tz": -330
    },
    "id": "F1uoiOubO1JB",
    "outputId": "5e4ce95d-0823-4c95-e622-c2e4627ea6a1"
   },
   "outputs": [
    {
     "name": "stdout",
     "output_type": "stream",
     "text": [
      "shape of x: (569, 30)\n",
      "shape of y: (569,)\n"
     ]
    }
   ],
   "source": [
    "print(\"shape of x: {}\\nshape of y: {}\".format(x.shape,y.shape))"
   ]
  },
  {
   "cell_type": "markdown",
   "metadata": {
    "colab_type": "text",
    "id": "oUi-zXIVLmGz"
   },
   "source": [
    "# Feature Scaling\n",
    "\n",
    "it is important to scale the features to a standard normal before sending it to the neural network"
   ]
  },
  {
   "cell_type": "code",
   "execution_count": 4,
   "metadata": {
    "colab": {},
    "colab_type": "code",
    "executionInfo": {
     "elapsed": 1582,
     "status": "ok",
     "timestamp": 1599425827790,
     "user": {
      "displayName": "Ashwin Prasad",
      "photoUrl": "https://lh3.googleusercontent.com/a-/AOh14GjMM3ZAlDTeJtJdBZRQScW9BHE7piLfLHk_QFi_IQ=s64",
      "userId": "07979481947621077543"
     },
     "user_tz": -330
    },
    "id": "sDZkb02s0jkQ"
   },
   "outputs": [],
   "source": [
    "from sklearn.preprocessing import StandardScaler\n",
    "sc = StandardScaler()\n",
    "x = sc.fit_transform(x)"
   ]
  },
  {
   "cell_type": "markdown",
   "metadata": {
    "colab_type": "text",
    "id": "1a10C2fbY7JB"
   },
   "source": [
    "# Dataset and DataLoader\n",
    "\n",
    "Dataset class in pytorch basically covers the data in a tuple and enables us to access the index of each data. this is necessary to create dataloader class which can be used to shuffle, apply Mini-Batch Gradient Descent and more"
   ]
  },
  {
   "cell_type": "code",
   "execution_count": 5,
   "metadata": {
    "colab": {},
    "colab_type": "code",
    "executionInfo": {
     "elapsed": 1586,
     "status": "ok",
     "timestamp": 1599425827801,
     "user": {
      "displayName": "Ashwin Prasad",
      "photoUrl": "https://lh3.googleusercontent.com/a-/AOh14GjMM3ZAlDTeJtJdBZRQScW9BHE7piLfLHk_QFi_IQ=s64",
      "userId": "07979481947621077543"
     },
     "user_tz": -330
    },
    "id": "g7BquBlUO3xX"
   },
   "outputs": [],
   "source": [
    "#defining dataset class\n",
    "from torch.utils.data import Dataset, DataLoader\n",
    "class dataset(Dataset):\n",
    "  def __init__(self,x,y):\n",
    "    self.x = torch.tensor(x,dtype=torch.float32)\n",
    "    self.y = torch.tensor(y,dtype=torch.float32)\n",
    "    self.length = self.x.shape[0]\n",
    "    \n",
    "  def __getitem__(self,idx):\n",
    "      return self.x[idx],self.y[idx]\n",
    "  \n",
    "  def __len__(self):\n",
    "    return self.length\n",
    "\n",
    "trainset = dataset(x,y)"
   ]
  },
  {
   "cell_type": "code",
   "execution_count": 6,
   "metadata": {
    "colab": {},
    "colab_type": "code",
    "executionInfo": {
     "elapsed": 1581,
     "status": "ok",
     "timestamp": 1599425827803,
     "user": {
      "displayName": "Ashwin Prasad",
      "photoUrl": "https://lh3.googleusercontent.com/a-/AOh14GjMM3ZAlDTeJtJdBZRQScW9BHE7piLfLHk_QFi_IQ=s64",
      "userId": "07979481947621077543"
     },
     "user_tz": -330
    },
    "id": "Jiy4aNZpPONk"
   },
   "outputs": [],
   "source": [
    "#DataLoader\n",
    "trainloader = DataLoader(trainset,batch_size=64,shuffle=False)"
   ]
  },
  {
   "cell_type": "markdown",
   "metadata": {
    "colab_type": "text",
    "id": "KKa3d1xuZBvv"
   },
   "source": [
    "# Neural Network for Classification\n",
    "\n",
    "in Pytorch, neural networks are created by using Object Oriented Programming.The layers are defined in the init function and the forward pass is defined in the forward function , which is invoked automatically when the class is called.\n",
    "\n",
    "These Functions are possible because of the class nn.Module from torch which was inherited.\n",
    "\n",
    "The output of the neural network is between 0 and 1 as sigmoid function is applied to the output"
   ]
  },
  {
   "cell_type": "code",
   "execution_count": 7,
   "metadata": {
    "colab": {},
    "colab_type": "code",
    "executionInfo": {
     "elapsed": 1578,
     "status": "ok",
     "timestamp": 1599425827807,
     "user": {
      "displayName": "Ashwin Prasad",
      "photoUrl": "https://lh3.googleusercontent.com/a-/AOh14GjMM3ZAlDTeJtJdBZRQScW9BHE7piLfLHk_QFi_IQ=s64",
      "userId": "07979481947621077543"
     },
     "user_tz": -330
    },
    "id": "JD0rGTWgQUFq"
   },
   "outputs": [],
   "source": [
    "#defining the network\n",
    "from torch import nn\n",
    "from torch.nn import functional as F\n",
    "class Net(nn.Module):\n",
    "  def __init__(self,input_shape):\n",
    "    super(Net,self).__init__()\n",
    "    self.fc1 = nn.Linear(input_shape,32)\n",
    "    self.fc2 = nn.Linear(32,64)\n",
    "    self.fc3 = nn.Linear(64,1)\n",
    "  def forward(self,x):\n",
    "    x = torch.relu(self.fc1(x))\n",
    "    x = torch.relu(self.fc2(x))\n",
    "    x = torch.sigmoid(self.fc3(x))\n",
    "    return x"
   ]
  },
  {
   "cell_type": "markdown",
   "metadata": {
    "colab_type": "text",
    "id": "WAu4LO2LMew8"
   },
   "source": [
    "# Parameter Tuning\n",
    "\n",
    "selecting various parameters such as number of epochs , loss function , learning rate and more"
   ]
  },
  {
   "cell_type": "code",
   "execution_count": 8,
   "metadata": {
    "colab": {},
    "colab_type": "code",
    "executionInfo": {
     "elapsed": 1577,
     "status": "ok",
     "timestamp": 1599425827810,
     "user": {
      "displayName": "Ashwin Prasad",
      "photoUrl": "https://lh3.googleusercontent.com/a-/AOh14GjMM3ZAlDTeJtJdBZRQScW9BHE7piLfLHk_QFi_IQ=s64",
      "userId": "07979481947621077543"
     },
     "user_tz": -330
    },
    "id": "zKSJd4b9LxmW"
   },
   "outputs": [],
   "source": [
    "#hyper parameters\n",
    "learning_rate = 0.01\n",
    "epochs = 700"
   ]
  },
  {
   "cell_type": "code",
   "execution_count": 9,
   "metadata": {
    "colab": {},
    "colab_type": "code",
    "executionInfo": {
     "elapsed": 1874,
     "status": "ok",
     "timestamp": 1599425828113,
     "user": {
      "displayName": "Ashwin Prasad",
      "photoUrl": "https://lh3.googleusercontent.com/a-/AOh14GjMM3ZAlDTeJtJdBZRQScW9BHE7piLfLHk_QFi_IQ=s64",
      "userId": "07979481947621077543"
     },
     "user_tz": -330
    },
    "id": "jdHuPvOvSSrx"
   },
   "outputs": [],
   "source": [
    "# Model, Optimizer and Loss \n",
    "model = Net(input_shape=x.shape[1])\n",
    "optimizer = torch.optim.SGD(model.parameters(),lr=learning_rate)\n",
    "loss_fn = nn.BCELoss()"
   ]
  },
  {
   "cell_type": "markdown",
   "metadata": {
    "colab_type": "text",
    "id": "wz9yVBbwZXGB"
   },
   "source": [
    "# Training\n",
    "\n",
    "The Gradients that are found from the loss function are used to change the values of the weights and the process is repeated several times.\n",
    "\n",
    "This is done to minimize the loss function and increase the accuracy\n",
    "\n",
    "Also , the Dataset is not split into training and test set because the amount of data is already low"
   ]
  },
  {
   "cell_type": "code",
   "execution_count": 10,
   "metadata": {
    "colab": {
     "base_uri": "https://localhost:8080/",
     "height": 260
    },
    "colab_type": "code",
    "executionInfo": {
     "elapsed": 12438,
     "status": "ok",
     "timestamp": 1599425838684,
     "user": {
      "displayName": "Ashwin Prasad",
      "photoUrl": "https://lh3.googleusercontent.com/a-/AOh14GjMM3ZAlDTeJtJdBZRQScW9BHE7piLfLHk_QFi_IQ=s64",
      "userId": "07979481947621077543"
     },
     "user_tz": -330
    },
    "id": "_nBFGwDeTkr4",
    "outputId": "3f6cd5de-0d0a-4db4-afb1-91eed5e27559"
   },
   "outputs": [
    {
     "name": "stdout",
     "output_type": "stream",
     "text": [
      "epoch 0\tloss : 0.6731628775596619\t accuracy : 0.6274165202108963\n",
      "epoch 50\tloss : 0.2154722362756729\t accuracy : 0.9507908611599297\n",
      "epoch 100\tloss : 0.1049698144197464\t accuracy : 0.9718804920913884\n",
      "epoch 150\tloss : 0.08159173280000687\t accuracy : 0.9824253075571178\n",
      "epoch 200\tloss : 0.06935682147741318\t accuracy : 0.984182776801406\n",
      "epoch 250\tloss : 0.0607854388654232\t accuracy : 0.984182776801406\n",
      "epoch 300\tloss : 0.053541962057352066\t accuracy : 0.9859402460456942\n",
      "epoch 350\tloss : 0.047878947108983994\t accuracy : 0.9876977152899824\n",
      "epoch 400\tloss : 0.043598778545856476\t accuracy : 0.9894551845342706\n",
      "epoch 450\tloss : 0.039949361234903336\t accuracy : 0.9912126537785588\n",
      "epoch 500\tloss : 0.036903925240039825\t accuracy : 0.9929701230228472\n",
      "epoch 550\tloss : 0.03445163369178772\t accuracy : 0.9929701230228472\n",
      "epoch 600\tloss : 0.032331496477127075\t accuracy : 0.9929701230228472\n",
      "epoch 650\tloss : 0.030418962240219116\t accuracy : 0.9929701230228472\n"
     ]
    }
   ],
   "source": [
    "#forward loop\n",
    "losses = []\n",
    "accur = []\n",
    "for i in range(epochs):\n",
    "  for j,(x_train,y_train) in enumerate(trainloader):\n",
    "    \n",
    "    #calculate output\n",
    "    output = model(x_train)\n",
    "\n",
    "    #calculate loss\n",
    "    loss = loss_fn(output,y_train.reshape(-1,1))\n",
    "\n",
    "    #accuracy\n",
    "    predicted = model(torch.tensor(x,dtype=torch.float32))\n",
    "    acc = (predicted.reshape(-1).detach().numpy().round() == y).mean()\n",
    "\n",
    "    #backprop\n",
    "    optimizer.zero_grad()\n",
    "    loss.backward()\n",
    "    optimizer.step()\n",
    "\n",
    "  if i%50 == 0:\n",
    "    losses.append(loss)\n",
    "    accur.append(acc)\n",
    "    print(\"epoch {}\\tloss : {}\\t accuracy : {}\".format(i,loss,acc))\n",
    "  "
   ]
  },
  {
   "cell_type": "markdown",
   "metadata": {
    "colab_type": "text",
    "id": "rWKEJfVZMxxc"
   },
   "source": [
    "# Analysis of the model\n",
    "\n",
    "The final loss is : 0.0304\n",
    "and the final accuracy is : 0.99\n",
    "(it was tested on the training set itself :\\ but, it's fine for now )"
   ]
  },
  {
   "cell_type": "code",
   "execution_count": 11,
   "metadata": {
    "colab": {
     "base_uri": "https://localhost:8080/",
     "height": 312
    },
    "colab_type": "code",
    "executionInfo": {
     "elapsed": 12432,
     "status": "ok",
     "timestamp": 1599425838688,
     "user": {
      "displayName": "Ashwin Prasad",
      "photoUrl": "https://lh3.googleusercontent.com/a-/AOh14GjMM3ZAlDTeJtJdBZRQScW9BHE7piLfLHk_QFi_IQ=s64",
      "userId": "07979481947621077543"
     },
     "user_tz": -330
    },
    "id": "xpDTxTB_Um-J",
    "outputId": "90c90ba0-43a0-4f3b-d636-7ac74658658a"
   },
   "outputs": [
    {
     "data": {
      "text/plain": [
       "Text(0, 0.5, 'loss')"
      ]
     },
     "execution_count": 11,
     "metadata": {
      "tags": []
     },
     "output_type": "execute_result"
    },
    {
     "data": {
      "image/png": "[encoded data removed]",
      "text/plain": [
       "<Figure size 432x288 with 1 Axes>"
      ]
     },
     "metadata": {
      "needs_background": "light",
      "tags": []
     },
     "output_type": "display_data"
    }
   ],
   "source": [
    "#plotting the loss\n",
    "plt.plot(losses)\n",
    "plt.title('Loss vs Epochs')\n",
    "plt.xlabel('Epochs')\n",
    "plt.ylabel('loss')"
   ]
  },
  {
   "cell_type": "code",
   "execution_count": 12,
   "metadata": {
    "colab": {
     "base_uri": "https://localhost:8080/",
     "height": 312
    },
    "colab_type": "code",
    "executionInfo": {
     "elapsed": 12801,
     "status": "ok",
     "timestamp": 1599425839068,
     "user": {
      "displayName": "Ashwin Prasad",
      "photoUrl": "https://lh3.googleusercontent.com/a-/AOh14GjMM3ZAlDTeJtJdBZRQScW9BHE7piLfLHk_QFi_IQ=s64",
      "userId": "07979481947621077543"
     },
     "user_tz": -330
    },
    "id": "AGPjAkhWKEv7",
    "outputId": "77c25707-358b-45a8-9052-b05b7523e387"
   },
   "outputs": [
    {
     "data": {
      "text/plain": [
       "Text(0, 0.5, 'loss')"
      ]
     },
     "execution_count": 12,
     "metadata": {
      "tags": []
     },
     "output_type": "execute_result"
    },
    {
     "data": {
      "image/png": "[encoded data removed]",
      "text/plain": [
       "<Figure size 432x288 with 1 Axes>"
      ]
     },
     "metadata": {
      "needs_background": "light",
      "tags": []
     },
     "output_type": "display_data"
    }
   ],
   "source": [
    "#printing the accuracy\n",
    "plt.plot(accur)\n",
    "plt.title('Accuracy vs Epochs')\n",
    "plt.xlabel('Accuracy')\n",
    "plt.ylabel('loss')"
   ]
  }
 ],
 "metadata": {
  "colab": {
   "authorship_tag": "ABX9TyM7RKy0WII315EToKyC6Clw",
   "collapsed_sections": [],
   "name": "Classification.ipynb",
   "provenance": []
  },
  "kernelspec": {
   "display_name": "Python 3",
   "language": "python",
   "name": "python3"
  },
  "language_info": {
   "codemirror_mode": {
    "name": "ipython",
    "version": 3
   },
   "file_extension": ".py",
   "mimetype": "text/x-python",
   "name": "python",
   "nbconvert_exporter": "python",
   "pygments_lexer": "ipython3",
   "version": "3.8.3"
  }
 },
 "nbformat": 4,
 "nbformat_minor": 1
}
