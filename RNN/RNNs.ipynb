{
 "cells": [
  {
   "cell_type": "markdown",
   "metadata": {},
   "source": [
    "<h1> LSTM - Pytorch for DeepLearning </h1>\n",
    "\n",
    "<img src="https://cdn-images-1.medium.com/max/800/1*JL4fZwwpWi0TLC8kFykHYw.jpeg" /> \n"
    "Long short-term memory is an artificial recurrent neural network architecture used in the field of deep learning.\n",
    "LSTMs and RNNs are used for sequence data and can perform better for timeseries problems. <br>\n",
    "\n",
    "An LSTM is an advanced version of RNN and LSTM can remember things learnt earlier in the sequence using gates added to a regular RNN. Both LSTM's and RNN's working are similar in PyTorch. So, once we cpded the Lstm Part, RNNs will also be easier to understand. <br> In this notebook, we are going to try and predict a sinewave with a Recurrence Neural Network"
   ]
  },
  {
   "cell_type": "markdown",
   "metadata": {},
   "source": [
    "<h2> Required Libraries </h2>"
   ]
  },
  {
   "cell_type": "code",
   "execution_count": null,
   "metadata": {
    "id": "XbDQC5fVUYkz"
   },
   "outputs": [],
   "source": [
    "#importing the libraries\n",
    "import numpy as np \n",
    "import torch\n",
    "import matplotlib.pyplot as plt"
   ]
  },
  {
   "cell_type": "markdown",
   "metadata": {},
   "source": [
    "<h2> Data Pre-processing </h2>\n",
    "I am creating a sinewave and as I already said, lstm takes sequence inputs.So, The input would be like the following : <br>\n",
    "\n",
    "\n",
    "<b>Input : [point 1, point 2, point 3.....,point n]   prediction : [point n+1]. </b> <br>\n",
    "we need many rows like this to create the dataset"
   ]
  },
  {
   "cell_type": "code",
   "execution_count": null,
   "metadata": {
    "colab": {
     "base_uri": "https://localhost:8080/",
     "height": 282
    },
    "id": "wQ0SsdQ7UgGx",
    "outputId": "66325ede-e2ae-4740-dc26-7d7e366a759d"
   },
   "outputs": [
    {
     "data": {
      "text/plain": [
       "[<matplotlib.lines.Line2D at 0x7f4f450c0dd8>]"
      ]
     },
     "execution_count": 2,
     "metadata": {
      "tags": []
     },
     "output_type": "execute_result"
    },
    {
     "data": {
      "image/png": "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\n",
      "text/plain": [
       "<Figure size 432x288 with 1 Axes>"
      ]
     },
     "metadata": {
      "needs_background": "light",
      "tags": []
     },
     "output_type": "display_data"
    }
   ],
   "source": [
    "#creating the dataset\n",
    "x = np.arange(1,721,1)\n",
    "y = np.sin(x*np.pi/180)  + np.random.randn(720)*0.05\n",
    "plt.plot(y)"
   ]
  },
  {
   "cell_type": "code",
   "execution_count": null,
   "metadata": {
    "id": "sorfMnteU6X-"
   },
   "outputs": [],
   "source": [
    "# structuring the data\n",
    "X = []\n",
    "Y = []\n",
    "for i in range(0,710):\n",
    "    list1 = []\n",
    "    for j in range(i,i+10):\n",
    "        list1.append(y[j])\n",
    "    X.append(list1)\n",
    "    Y.append(y[j+1])"
   ]
  },
  {
   "cell_type": "markdown",
   "metadata": {},
   "source": [
    "<h2> Train Test Split </h2>"
   ]
  },
  {
   "cell_type": "code",
   "execution_count": null,
   "metadata": {
    "id": "cmezmN2NWIIh"
   },
   "outputs": [],
   "source": [
    "#train test split\n",
    "X = np.array(X)\n",
    "Y = np.array(Y)\n",
    "x_train = X[:360]\n",
    "x_test = X[360:]\n",
    "y_train = Y[:360]\n",
    "y_test = Y[360:]"
   ]
  },
  {
   "cell_type": "markdown",
   "metadata": {},
   "source": [
    "<h2> Dataset and Dataloader </h2>\n",
    "\n",
    "Pytorch's Dataset and DataLoader class helps in ease of access of data and also mini-batch gradient descent"
   ]
  },
  {
   "cell_type": "code",
   "execution_count": null,
   "metadata": {
    "id": "vtsclX7UWgxa"
   },
   "outputs": [],
   "source": [
    "#dataset\n",
    "from torch.utils.data import Dataset\n",
    "\n",
    "class timeseries(Dataset):\n",
    "    def __init__(self,x,y):\n",
    "        self.x = torch.tensor(x,dtype=torch.float32)\n",
    "        self.y = torch.tensor(y,dtype=torch.float32)\n",
    "        self.len = x.shape[0]\n",
    "\n",
    "    def __getitem__(self,idx):\n",
    "        return self.x[idx],self.y[idx]\n",
    "  \n",
    "    def __len__(self):\n",
    "        return self.len\n",
    "\n",
    "dataset = timeseries(x_train,y_train)"
   ]
  },
  {
   "cell_type": "code",
   "execution_count": null,
   "metadata": {
    "id": "-YLEYIWTYX-_"
   },
   "outputs": [],
   "source": [
    "from torch.utils.data import DataLoader\n",
    "train_loader = DataLoader(dataset,shuffle=True,batch_size=256)"
   ]
  },
  {
   "cell_type": "markdown",
   "metadata": {},
   "source": [
    "<h2> Recurrent Neural Network </h2>\n",
    "\n",
    "This is similar to all the outher neural networks created with pytorch. but, the first layer is a lstm layer which will accept input as a sequence"
   ]
  },
  {
   "cell_type": "code",
   "execution_count": null,
   "metadata": {
    "id": "8RshlkqaYwVd"
   },
   "outputs": [],
   "source": [
    "#neural network\n",
    "from torch import nn\n",
    "\n",
    "class neural_network(nn.Module):\n",
    "    def __init__(self):\n",
    "        super(neural_network,self).__init__()\n",
    "        self.lstm = nn.LSTM(input_size=1,hidden_size=5,num_layers=1,batch_first=True)\n",
    "        self.fc1 = nn.Linear(in_features=5,out_features=1)\n",
    "\n",
    "    def forward(self,x):\n",
    "        output,_status = self.lstm(x)\n",
    "        output = output[:,-1,:]\n",
    "        output = self.fc1(torch.relu(output))\n",
    "        return output\n",
    "\n",
    "model = neural_network()"
   ]
  },
  {
   "cell_type": "markdown",
   "metadata": {},
   "source": [
    "<h2> Loss, Optimizer, Epochs </h2>\n",
    "\n",
    "selecting a few parameters"
   ]
  },
  {
   "cell_type": "code",
   "execution_count": null,
   "metadata": {
    "id": "7yDUcGsORR_7"
   },
   "outputs": [],
   "source": [
    "# optimizer , loss\n",
    "criterion = torch.nn.MSELoss()\n",
    "optimizer = torch.optim.Adam(model.parameters(),lr=0.0001)\n",
    "epochs = 1500"
   ]
  },
  {
   "cell_type": "markdown",
   "metadata": {},
   "source": [
    "<h2> Training Loop (forward pass and back propogation) </h2>\n",
    "\n",
    "calculating the gradients for loss with respect to all the parameters and performing gradient descent"
   ]
  },
  {
   "cell_type": "code",
   "execution_count": null,
   "metadata": {
    "colab": {
     "base_uri": "https://localhost:8080/",
     "height": 527
    },
    "id": "ajZdLCjBRtP-",
    "outputId": "63803128-53c9-4607-b813-40d1facc724b"
   },
   "outputs": [
    {
     "name": "stdout",
     "output_type": "stream",
     "text": [
      "0 th iteration :  tensor(0.5941, grad_fn=<MseLossBackward>)\n",
      "50 th iteration :  tensor(0.5345, grad_fn=<MseLossBackward>)\n",
      "100 th iteration :  tensor(0.5571, grad_fn=<MseLossBackward>)\n",
      "150 th iteration :  tensor(0.4733, grad_fn=<MseLossBackward>)\n",
      "200 th iteration :  tensor(0.4460, grad_fn=<MseLossBackward>)\n",
      "250 th iteration :  tensor(0.4256, grad_fn=<MseLossBackward>)\n",
      "300 th iteration :  tensor(0.3956, grad_fn=<MseLossBackward>)\n",
      "350 th iteration :  tensor(0.3872, grad_fn=<MseLossBackward>)\n",
      "400 th iteration :  tensor(0.3416, grad_fn=<MseLossBackward>)\n",
      "450 th iteration :  tensor(0.2818, grad_fn=<MseLossBackward>)\n",
      "500 th iteration :  tensor(0.2403, grad_fn=<MseLossBackward>)\n",
      "550 th iteration :  tensor(0.2036, grad_fn=<MseLossBackward>)\n",
      "600 th iteration :  tensor(0.1683, grad_fn=<MseLossBackward>)\n",
      "650 th iteration :  tensor(0.1494, grad_fn=<MseLossBackward>)\n",
      "700 th iteration :  tensor(0.1149, grad_fn=<MseLossBackward>)\n",
      "750 th iteration :  tensor(0.0927, grad_fn=<MseLossBackward>)\n",
      "800 th iteration :  tensor(0.0652, grad_fn=<MseLossBackward>)\n",
      "850 th iteration :  tensor(0.0547, grad_fn=<MseLossBackward>)\n",
      "900 th iteration :  tensor(0.0566, grad_fn=<MseLossBackward>)\n",
      "950 th iteration :  tensor(0.0550, grad_fn=<MseLossBackward>)\n",
      "1000 th iteration :  tensor(0.0480, grad_fn=<MseLossBackward>)\n",
      "1050 th iteration :  tensor(0.0544, grad_fn=<MseLossBackward>)\n",
      "1100 th iteration :  tensor(0.0538, grad_fn=<MseLossBackward>)\n",
      "1150 th iteration :  tensor(0.0548, grad_fn=<MseLossBackward>)\n",
      "1200 th iteration :  tensor(0.0505, grad_fn=<MseLossBackward>)\n",
      "1250 th iteration :  tensor(0.0452, grad_fn=<MseLossBackward>)\n",
      "1300 th iteration :  tensor(0.0479, grad_fn=<MseLossBackward>)\n",
      "1350 th iteration :  tensor(0.0513, grad_fn=<MseLossBackward>)\n",
      "1400 th iteration :  tensor(0.0455, grad_fn=<MseLossBackward>)\n",
      "1450 th iteration :  tensor(0.0379, grad_fn=<MseLossBackward>)\n"
     ]
    }
   ],
   "source": [
    "#training loop\n",
    "for i in range(epochs):\n",
    "    for j,data in enumerate(train_loader):\n",
    "        y_pred = model(data[:][0].view(-1,10,1)).reshape(-1)\n",
    "        loss = criterion(y_pred,data[:][1])\n",
    "        loss.backward()\n",
    "        optimizer.step()\n",
    "    if i%50 == 0:\n",
    "        print(i,\"th iteration : \",loss)\n"
   ]
  },
  {
   "cell_type": "markdown",
   "metadata": {},
   "source": [
    "<h2> Neural Network Predictions </h2>"
   ]
  },
  {
   "cell_type": "code",
   "execution_count": null,
   "metadata": {
    "colab": {
     "base_uri": "https://localhost:8080/",
     "height": 282
    },
    "id": "6hUdqGBMTyLR",
    "outputId": "21509355-f74b-4461-82c3-bf12711d04b8"
   },
   "outputs": [
    {
     "data": {
      "text/plain": [
       "<matplotlib.legend.Legend at 0x7f4f44b71b00>"
      ]
     },
     "execution_count": 11,
     "metadata": {
      "tags": []
     },
     "output_type": "execute_result"
    },
    {
     "data": {
      "image/png": "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\n",
      "text/plain": [
       "<Figure size 432x288 with 1 Axes>"
      ]
     },
     "metadata": {
      "needs_background": "light",
      "tags": []
     },
     "output_type": "display_data"
    }
   ],
   "source": [
    "#test set actual vs predicted\n",
    "test_set = timeseries(x_test,y_test)\n",
    "test_pred = model(test_set[:][0].view(-1,10,1)).view(-1)\n",
    "plt.plot(test_pred.detach().numpy(),label='predicted')\n",
    "plt.plot(test_set[:][1].view(-1),label='original')\n",
    "plt.legend()"
   ]
  }
 ],
 "metadata": {
  "colab": {
   "collapsed_sections": [],
   "name": "RNNs.ipynb",
   "provenance": []
  },
  "kernelspec": {
   "display_name": "Python 3",
   "language": "python",
   "name": "python3"
  },
  "language_info": {
   "codemirror_mode": {
    "name": "ipython",
    "version": 3
   },
   "file_extension": ".py",
   "mimetype": "text/x-python",
   "name": "python",
   "nbconvert_exporter": "python",
   "pygments_lexer": "ipython3",
   "version": "3.8.3"
  }
 },
 "nbformat": 4,
 "nbformat_minor": 1
}
