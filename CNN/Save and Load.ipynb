{
 "cells": [
  {
   "cell_type": "markdown",
   "metadata": {},
   "source": [
    "# Saving and Loading Models\n",
    "\n",
    "<img src=\"https://miro.medium.com/max/700/1*WwOF2nTIuNhu1tEAe-xjgg.jpeg\" />\n",
    "\n",
    "after creating a succesful deep learning model , it is very important to save the model"
   ]
  },
  {
   "cell_type": "code",
   "execution_count": 1,
   "metadata": {
    "colab": {},
    "colab_type": "code",
    "executionInfo": {
     "elapsed": 1393,
     "status": "ok",
     "timestamp": 1600280657558,
     "user": {
      "displayName": "Ashwin Prasad",
      "photoUrl": "https://lh3.googleusercontent.com/a-/AOh14GjMM3ZAlDTeJtJdBZRQScW9BHE7piLfLHk_QFi_IQ=s64",
      "userId": "07979481947621077543"
     },
     "user_tz": -330
    },
    "id": "5GmgkwCsFqSh"
   },
   "outputs": [],
   "source": [
    "#importing the libraires\n",
    "import torch\n",
    "import torch.nn as nn"
   ]
  },
  {
   "cell_type": "code",
   "execution_count": 2,
   "metadata": {
    "colab": {},
    "colab_type": "code",
    "executionInfo": {
     "elapsed": 1386,
     "status": "ok",
     "timestamp": 1600280657560,
     "user": {
      "displayName": "Ashwin Prasad",
      "photoUrl": "https://lh3.googleusercontent.com/a-/AOh14GjMM3ZAlDTeJtJdBZRQScW9BHE7piLfLHk_QFi_IQ=s64",
      "userId": "07979481947621077543"
     },
     "user_tz": -330
    },
    "id": "-Vx05p1QFs32"
   },
   "outputs": [],
   "source": [
    "#creating a linear model\n",
    "class Model(nn.Module):\n",
    "  def __init__(self):\n",
    "    super(Model,self).__init__()\n",
    "    self.fc1 = nn.Linear(in_features=3,out_features=5)\n",
    "  \n",
    "  def forward(self,x):\n",
    "    return self.fc1(x)"
   ]
  },
  {
   "cell_type": "markdown",
   "metadata": {},
   "source": [
    "After training the model , all we have to do is torch.save(modelname,filename). I have used .h5 file type to save the model"
   ]
  },
  {
   "cell_type": "code",
   "execution_count": 3,
   "metadata": {
    "colab": {},
    "colab_type": "code",
    "executionInfo": {
     "elapsed": 1380,
     "status": "ok",
     "timestamp": 1600280657561,
     "user": {
      "displayName": "Ashwin Prasad",
      "photoUrl": "https://lh3.googleusercontent.com/a-/AOh14GjMM3ZAlDTeJtJdBZRQScW9BHE7piLfLHk_QFi_IQ=s64",
      "userId": "07979481947621077543"
     },
     "user_tz": -330
    },
    "id": "B-RD8tpoJAat"
   },
   "outputs": [],
   "source": [
    "#saving the model\n",
    "model = Model()\n",
    "torch.save(model,'something.h5')"
   ]
  },
  {
   "cell_type": "markdown",
   "metadata": {},
   "source": [
    "Similarly, we can load the model with torch.load(filename)"
   ]
  },
  {
   "cell_type": "code",
   "execution_count": 4,
   "metadata": {
    "colab": {},
    "colab_type": "code",
    "executionInfo": {
     "elapsed": 1372,
     "status": "ok",
     "timestamp": 1600280657562,
     "user": {
      "displayName": "Ashwin Prasad",
      "photoUrl": "https://lh3.googleusercontent.com/a-/AOh14GjMM3ZAlDTeJtJdBZRQScW9BHE7piLfLHk_QFi_IQ=s64",
      "userId": "07979481947621077543"
     },
     "user_tz": -330
    },
    "id": "1wGmmaFEJFi7"
   },
   "outputs": [],
   "source": [
    "#loading the model\n",
    "loaded_model = torch.load('something.h5')"
   ]
  },
  {
   "cell_type": "code",
   "execution_count": 5,
   "metadata": {
    "colab": {
     "base_uri": "https://localhost:8080/",
     "height": 123
    },
    "colab_type": "code",
    "executionInfo": {
     "elapsed": 1364,
     "status": "ok",
     "timestamp": 1600280657564,
     "user": {
      "displayName": "Ashwin Prasad",
      "photoUrl": "https://lh3.googleusercontent.com/a-/AOh14GjMM3ZAlDTeJtJdBZRQScW9BHE7piLfLHk_QFi_IQ=s64",
      "userId": "07979481947621077543"
     },
     "user_tz": -330
    },
    "id": "LKOej9STJYuK",
    "outputId": "0d555c73-9249-4eaa-c0c5-55f1ae6855f8"
   },
   "outputs": [
    {
     "data": {
      "text/plain": [
       "Parameter containing:\n",
       "tensor([[ 0.0725,  0.1615, -0.0047],\n",
       "        [-0.0371, -0.2640, -0.3004],\n",
       "        [ 0.2129,  0.1725, -0.0136],\n",
       "        [-0.5025,  0.5496,  0.0448],\n",
       "        [-0.2974,  0.1040,  0.0932]], requires_grad=True)"
      ]
     },
     "execution_count": 5,
     "metadata": {
      "tags": []
     },
     "output_type": "execute_result"
    }
   ],
   "source": [
    "#weights of the original model\n",
    "model.fc1.weight"
   ]
  },
  {
   "cell_type": "code",
   "execution_count": 6,
   "metadata": {
    "colab": {
     "base_uri": "https://localhost:8080/",
     "height": 123
    },
    "colab_type": "code",
    "executionInfo": {
     "elapsed": 1356,
     "status": "ok",
     "timestamp": 1600280657565,
     "user": {
      "displayName": "Ashwin Prasad",
      "photoUrl": "https://lh3.googleusercontent.com/a-/AOh14GjMM3ZAlDTeJtJdBZRQScW9BHE7piLfLHk_QFi_IQ=s64",
      "userId": "07979481947621077543"
     },
     "user_tz": -330
    },
    "id": "A6lFf0H9JdX0",
    "outputId": "c3339d96-53de-476b-a8cd-5d6b9297a895"
   },
   "outputs": [
    {
     "data": {
      "text/plain": [
       "Parameter containing:\n",
       "tensor([[ 0.0725,  0.1615, -0.0047],\n",
       "        [-0.0371, -0.2640, -0.3004],\n",
       "        [ 0.2129,  0.1725, -0.0136],\n",
       "        [-0.5025,  0.5496,  0.0448],\n",
       "        [-0.2974,  0.1040,  0.0932]], requires_grad=True)"
      ]
     },
     "execution_count": 6,
     "metadata": {
      "tags": []
     },
     "output_type": "execute_result"
    }
   ],
   "source": [
    "#weigths of the loaded model\n",
    "loaded_model.fc1.weight"
   ]
  },
  {
   "cell_type": "code",
   "execution_count": 7,
   "metadata": {
    "colab": {
     "base_uri": "https://localhost:8080/",
     "height": 52
    },
    "colab_type": "code",
    "executionInfo": {
     "elapsed": 1345,
     "status": "ok",
     "timestamp": 1600280657566,
     "user": {
      "displayName": "Ashwin Prasad",
      "photoUrl": "https://lh3.googleusercontent.com/a-/AOh14GjMM3ZAlDTeJtJdBZRQScW9BHE7piLfLHk_QFi_IQ=s64",
      "userId": "07979481947621077543"
     },
     "user_tz": -330
    },
    "id": "L0T46km0J6gn",
    "outputId": "7c1e0c53-de3b-431d-eab1-7892f1f36e6b"
   },
   "outputs": [
    {
     "data": {
      "text/plain": [
       "tensor([[ 0.7429, -1.2462,  0.4356,  1.0646,  0.5010]],\n",
       "       grad_fn=<AddmmBackward>)"
      ]
     },
     "execution_count": 7,
     "metadata": {
      "tags": []
     },
     "output_type": "execute_result"
    }
   ],
   "source": [
    "#making predictions with a loaded model\n",
    "tensor = torch.tensor([[1,2,3]],dtype=torch.float32)\n",
    "loaded_model(tensor)"
   ]
  }
 ],
 "metadata": {
  "colab": {
   "authorship_tag": "ABX9TyNamo5zZatqkziEjWL1brwM",
   "name": "Save and Load.ipynb",
   "provenance": []
  },
  "kernelspec": {
   "display_name": "Python 3",
   "language": "python",
   "name": "python3"
  },
  "language_info": {
   "codemirror_mode": {
    "name": "ipython",
    "version": 3
   },
   "file_extension": ".py",
   "mimetype": "text/x-python",
   "name": "python",
   "nbconvert_exporter": "python",
   "pygments_lexer": "ipython3",
   "version": "3.8.3"
  }
 },
 "nbformat": 4,
 "nbformat_minor": 1
}
